{
  "nbformat": 4,
  "nbformat_minor": 0,
  "metadata": {
    "colab": {
      "provenance": []
    },
    "kernelspec": {
      "name": "python3",
      "display_name": "Python 3"
    },
    "language_info": {
      "name": "python"
    }
  },
  "cells": [
    {
      "cell_type": "code",
      "source": [
        "ket = '''selamat datang di aplikasi menghitung luas bangun datar\n",
        "masukan pilihan:\n",
        "1. untuk menghitung luas persegi\n",
        "2. untuk menghitung luas lingkaran\n",
        "3. untuk menghitung luas segitiga'''\n",
        "\n",
        "pilih = input(ket)\n",
        "\n",
        "match pilih :\n",
        " case '1':\n",
        "  print('kamu memilih 1 untuk menghitung luas persegi')\n",
        "  sisi = int(input('masukan sisi'))\n",
        "  LuasP = sisi*sisi\n",
        "  print('Luas persegi yang sisinya',sisi,'adalah',LuasP)\n",
        " case '2':\n",
        "  print('kamu memilih 2 untuk menghitung luas lingkaran')\n",
        "  jari2 = float(input('masukan jari-jari ?'))\n",
        "  LuasL = 3.14 * jari2 *jari2\n",
        "  print('Luas lingkaran yang jari-jarinya',jari2,'adalah',int(LuasL))\n",
        " case '3':\n",
        "  print('kamu memilih 3 untuk menghitung luas segitiga')\n",
        "  alas = int(input(\"masukan alas ?\"))\n",
        "  tinggi = int(input(\"masukan tinggi ?\"))\n",
        "  luasS = 0.5 * alas * tinggi\n",
        "  print('luas segitiga yang alasnya',alas,'dari tingginya',tinggi, 'adalah', int(luasS))\n",
        " case _:\n",
        "  print('salah memilih pilihan')"
      ],
      "metadata": {
        "colab": {
          "base_uri": "https://localhost:8080/"
        },
        "id": "9dnCUpz76cu0",
        "outputId": "b371a45c-21f6-430f-8c55-d4bac80e32d3"
      },
      "execution_count": null,
      "outputs": [
        {
          "output_type": "stream",
          "name": "stdout",
          "text": [
            "selamat datang di aplikasi menghitung luas bangun datar\n",
            "masukan pilihan:\n",
            "1. untuk menghitung luas persegi\n",
            "2. untuk menghitung luas lingkaran\n",
            "3. untuk menghitung luas segitiga3\n",
            "kamu memilih 3 untuk menghitung luas segitiga\n",
            "masukan alas ?8\n",
            "masukan tinggi ?10\n",
            "luas segitiga yang alasnya 8 dari tingginya 10 adalah 40\n"
          ]
        }
      ]
    },
    {
      "cell_type": "code",
      "source": [
        "kendaraan = [\"hondamotor\",\"motor\",\"105cc\",\"biru\",\"2roda\"]\n",
        "print(kendaraan)\n",
        "\n",
        "kendaraan.append(\"18jt\")\n",
        "kendaraan.append(\"beat125\")\n",
        "print(kendaraan)\n",
        "\n",
        "kendaraan.insert(2,\"honda\")\n",
        "print(kendaraan)"
      ],
      "metadata": {
        "colab": {
          "base_uri": "https://localhost:8080/"
        },
        "id": "xBM5iI5J_o7h",
        "outputId": "2db06e5f-0691-4d84-c613-f3a72af65cec"
      },
      "execution_count": null,
      "outputs": [
        {
          "output_type": "stream",
          "name": "stdout",
          "text": [
            "['hondamotor', 'motor', '105cc', 'biru', '2roda']\n",
            "['hondamotor', 'motor', '105cc', 'biru', '2roda', '18jt', 'beat125']\n",
            "['hondamotor', 'motor', 'honda', '105cc', 'biru', '2roda', '18jt', 'beat125']\n"
          ]
        }
      ]
    }
  ]
}